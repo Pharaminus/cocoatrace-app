{
 "cells": [
  {
   "cell_type": "code",
   "execution_count": 2,
   "metadata": {},
   "outputs": [],
   "source": [
    "import pandas as pd\n",
    "\n"
   ]
  },
  {
   "cell_type": "code",
   "execution_count": 3,
   "metadata": {},
   "outputs": [],
   "source": [
    "data = pd.DataFrame()\n",
    "data = pd.read_csv(\"./cocoaApp_producteur.csv\")\n",
    "# data['producteur_id'] = None\n",
    "\n",
    "data['id'] = list(range(1, len(data) + 1))\n",
    "data.to_csv(\"cocoaApp_producteur.csv\", index=False)\n"
   ]
  },
  {
   "cell_type": "code",
   "execution_count": 5,
   "metadata": {},
   "outputs": [],
   "source": [
    "data['age_moyen_arbres'] = data['age_moyen_arbres'].astype(int)\n",
    "data['nombre_arbres'] = data['nombre_arbres'].astype(int)"
   ]
  },
  {
   "cell_type": "code",
   "execution_count": 6,
   "metadata": {},
   "outputs": [
    {
     "name": "stdout",
     "output_type": "stream",
     "text": [
      "<class 'pandas.core.frame.DataFrame'>\n",
      "RangeIndex: 225 entries, 0 to 224\n",
      "Data columns (total 20 columns):\n",
      " #   Column                Non-Null Count  Dtype  \n",
      "---  ------                --------------  -----  \n",
      " 0   numero_titre_foncier  0 non-null      float64\n",
      " 1   statut                225 non-null    object \n",
      " 2   id_parcelle           225 non-null    object \n",
      " 3   superficie            225 non-null    float64\n",
      " 4   nombre_arbres         225 non-null    int64  \n",
      " 5   age_moyen_arbres      225 non-null    int64  \n",
      " 6   producteur_id         225 non-null    object \n",
      " 7   geometrie             225 non-null    object \n",
      " 8   id_producteur         225 non-null    object \n",
      " 9   Type_culture          225 non-null    object \n",
      " 10  an_creation           225 non-null    int64  \n",
      " 11  arrondisement         225 non-null    object \n",
      " 12  departement           225 non-null    object \n",
      " 13  description           192 non-null    object \n",
      " 14  longueur              225 non-null    float64\n",
      " 15  region                225 non-null    object \n",
      " 16  village               224 non-null    object \n",
      " 17  voie_eau              225 non-null    object \n",
      " 18  url                   225 non-null    object \n",
      " 19  url_carte             225 non-null    object \n",
      "dtypes: float64(3), int64(3), object(14)\n",
      "memory usage: 35.3+ KB\n"
     ]
    }
   ],
   "source": [
    "data.info()"
   ]
  }
 ],
 "metadata": {
  "kernelspec": {
   "display_name": "Python 3",
   "language": "python",
   "name": "python3"
  },
  "language_info": {
   "codemirror_mode": {
    "name": "ipython",
    "version": 3
   },
   "file_extension": ".py",
   "mimetype": "text/x-python",
   "name": "python",
   "nbconvert_exporter": "python",
   "pygments_lexer": "ipython3",
   "version": "3.12.6"
  }
 },
 "nbformat": 4,
 "nbformat_minor": 2
}
